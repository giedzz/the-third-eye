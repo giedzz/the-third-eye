{
 "cells": [
  {
   "cell_type": "code",
   "execution_count": 11,
   "id": "8536d336-783b-44c0-b3cd-6a3d836dc20f",
   "metadata": {},
   "outputs": [],
   "source": [
    "from osgeo import gdal\n",
    "ds = gdal.Open('out/out2.tiff')\n",
    "width = ds.RasterXSize\n",
    "height = ds.RasterYSize\n",
    "gt = ds.GetGeoTransform()\n",
    "minx = gt[0]\n",
    "miny = gt[3] + width*gt[4] + height*gt[5] \n",
    "maxx = gt[0] + width*gt[1] + height*gt[2]\n",
    "maxy = gt[3] "
   ]
  },
  {
   "cell_type": "code",
   "execution_count": 12,
   "id": "1d079c5a-c68d-4a38-90a9-ff5208fcf728",
   "metadata": {},
   "outputs": [
    {
     "name": "stdout",
     "output_type": "stream",
     "text": [
      "600000.0 5290200.0 709800.0 5400000.0\n"
     ]
    }
   ],
   "source": [
    "print(minx, miny, maxx, maxy)"
   ]
  },
  {
   "cell_type": "code",
   "execution_count": null,
   "id": "49cad3ef-9ec9-4dde-b4ae-e1966799ed20",
   "metadata": {},
   "outputs": [],
   "source": [
    "minx, miny = 54.8217649993685, 23.7922346\n",
    "maxx, maxy = 54.9597227994084, 24.0968447"
   ]
  }
 ],
 "metadata": {
  "kernelspec": {
   "display_name": "Python 3 (ipykernel)",
   "language": "python",
   "name": "python3"
  },
  "language_info": {
   "codemirror_mode": {
    "name": "ipython",
    "version": 3
   },
   "file_extension": ".py",
   "mimetype": "text/x-python",
   "name": "python",
   "nbconvert_exporter": "python",
   "pygments_lexer": "ipython3",
   "version": "3.9.7"
  }
 },
 "nbformat": 4,
 "nbformat_minor": 5
}
