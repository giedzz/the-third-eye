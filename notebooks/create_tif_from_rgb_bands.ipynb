{
 "cells": [
  {
   "cell_type": "code",
   "execution_count": 2,
   "id": "c602fd3f-49bc-4636-a947-828ffb06252c",
   "metadata": {},
   "outputs": [],
   "source": [
    "import os\n",
    "import rasterio\n",
    "from rasterio import plot\n",
    "%matplotlib inline"
   ]
  },
  {
   "cell_type": "code",
   "execution_count": 3,
   "id": "311ac6db-6c9f-4d74-a717-2897791bc637",
   "metadata": {},
   "outputs": [
    {
     "name": "stdout",
     "output_type": "stream",
     "text": [
      "Band 2 file: T34UFF_20210926T094029_B02_10m.jp2\n",
      "Band 3 file: T34UFF_20210926T094029_B03_10m.jp2\n",
      "Band 4 file: T34UFF_20210926T094029_B04_10m.jp2\n",
      "Band 8 file: T34UFF_20210926T094029_B08_10m.jp2\n"
     ]
    }
   ],
   "source": [
    "# image_path = 'data/S2A_MSIL2A_20210928T093041_N0301_R136_T34UFF_20210928T122916.SAFE/GRANULE/L2A_T34UFF_A032737_20210928T093346/IMG_DATA/R10m/'\n",
    "image_path = '/media/agmis/mokslams/copernicus/the_third_eye/data/S2B_MSIL2A_20210926T094029_N0301_R036_T34UFF_20210926T110446.SAFE/GRANULE/L2A_T34UFF_A023800_20210926T094029/IMG_DATA/R10m'\n",
    "for file in os.listdir(image_path):\n",
    "    if 'B02' in file:\n",
    "        print(f'Band 2 file: {file}')\n",
    "        band2 = rasterio.open(os.path.join(image_path, file), driver='JP2OpenJPEG')\n",
    "    elif 'B03' in file:\n",
    "        print(f'Band 3 file: {file}')\n",
    "        band3 = rasterio.open(os.path.join(image_path, file), driver='JP2OpenJPEG')\n",
    "    elif 'B04' in file:\n",
    "        print(f'Band 4 file: {file}')\n",
    "        band4 = rasterio.open(os.path.join(image_path, file), driver='JP2OpenJPEG')\n",
    "    elif 'B08' in file:\n",
    "        print(f'Band 8 file: {file}')\n",
    "        band8 = rasterio.open(os.path.join(image_path, file), driver='JP2OpenJPEG')\n",
    "# band2 = rasterio.open(os.path.join(image_path, 'T47UPP_20210925T041551_B02.jp2'), driver='JP2OpenJPEG')\n",
    "# band3 = rasterio.open(os.path.join(image_path, 'T47UPP_20210925T041551_B03.jp2'), driver='JP2OpenJPEG')                     \n",
    "# band4 = rasterio.open(os.path.join(image_path, 'T47UPP_20210925T041551_B04.jp2'), driver='JP2OpenJPEG')                      \n",
    "# band8 = rasterio.open(os.path.join(image_path, 'T47UPP_20210925T041551_B08.jp2'), driver='JP2OpenJPEG')"
   ]
  },
  {
   "cell_type": "code",
   "execution_count": 16,
   "id": "bf513c2c-dd02-4eae-b01c-ebfcd2754d9f",
   "metadata": {},
   "outputs": [],
   "source": [
    "true_color = rasterio.open('out/out_kaunas_sentinel.tif', 'w', driver='Gtiff',\n",
    "                          width=band4.width, height=band4.height,\n",
    "                          count=3, crs=band4.crs, transform=band4.transform, dtype=band4.dtypes[0])\n",
    "true_color.write(band2.read(1),3)\n",
    "true_color.write(band3.read(1),2)\n",
    "true_color.write(band4.read(1),1)\n",
    "true_color.close()"
   ]
  },
  {
   "cell_type": "code",
   "execution_count": 4,
   "id": "80d1db6a-00dd-41d2-af50-ac95ea99dac5",
   "metadata": {},
   "outputs": [
    {
     "data": {
      "text/plain": [
       "CRS.from_epsg(32634)"
      ]
     },
     "execution_count": 4,
     "metadata": {},
     "output_type": "execute_result"
    }
   ],
   "source": [
    "band4.crs"
   ]
  },
  {
   "cell_type": "code",
   "execution_count": null,
   "id": "15cc72db-0484-4804-a8f9-215fc5e1ca04",
   "metadata": {},
   "outputs": [],
   "source": []
  }
 ],
 "metadata": {
  "kernelspec": {
   "display_name": "Python 3 (ipykernel)",
   "language": "python",
   "name": "python3"
  },
  "language_info": {
   "codemirror_mode": {
    "name": "ipython",
    "version": 3
   },
   "file_extension": ".py",
   "mimetype": "text/x-python",
   "name": "python",
   "nbconvert_exporter": "python",
   "pygments_lexer": "ipython3",
   "version": "3.9.7"
  }
 },
 "nbformat": 4,
 "nbformat_minor": 5
}
