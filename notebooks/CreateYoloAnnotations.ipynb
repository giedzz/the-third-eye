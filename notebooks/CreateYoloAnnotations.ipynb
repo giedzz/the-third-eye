{
 "cells": [
  {
   "cell_type": "code",
   "execution_count": 11,
   "id": "899ffa5b-350e-4dc3-8c1d-81cadce3bb9c",
   "metadata": {},
   "outputs": [],
   "source": [
    "import rasterio\n",
    "import rasterio.plot\n",
    "import rasterio.features\n",
    "import rasterio.warp\n",
    "import pyproj\n",
    "import numpy as np\n",
    "import matplotlib\n",
    "import matplotlib.pyplot as plt"
   ]
  },
  {
   "cell_type": "code",
   "execution_count": 12,
   "id": "7551db98-681f-464e-881a-62dcd0f7a9a5",
   "metadata": {},
   "outputs": [],
   "source": [
    "filepath = '../out/out_kaunas_sentinel.tif'"
   ]
  },
  {
   "cell_type": "code",
   "execution_count": 13,
   "id": "27072637-1ba2-489d-be13-d8b6e6beb260",
   "metadata": {},
   "outputs": [
    {
     "name": "stdout",
     "output_type": "stream",
     "text": [
      "{'type': 'Polygon', 'coordinates': [[[600000.0, 6100020.0], [600000.0, 5990220.0], [709800.0, 5990220.0], [709800.0, 6100020.0], [600000.0, 6100020.0]]]}\n"
     ]
    }
   ],
   "source": [
    "# The grid of raster values can be accessed as a numpy array and plotted:\n",
    "with rasterio.open(filepath) as dataset:\n",
    "    # Read the dataset's valid data mask as a ndarray.\n",
    "    mask = dataset.dataset_mask()\n",
    "\n",
    "    # Extract feature shapes and values from the array.\n",
    "    for geom, val in rasterio.features.shapes(\n",
    "            mask, transform=dataset.transform):\n",
    "\n",
    "        # Transform shapes from the dataset's own coordinate\n",
    "        # reference system to CRS84 (EPSG:4326).\n",
    "        geom = rasterio.warp.transform_geom(\n",
    "            dataset.crs, 'EPSG:4326', geom, precision=6)\n",
    "\n",
    "        # Print GeoJSON shapes to stdout.\n",
    "        print(geom)"
   ]
  },
  {
   "cell_type": "code",
   "execution_count": null,
   "id": "3f4a015d-5234-4b50-adad-b0641714c27c",
   "metadata": {},
   "outputs": [],
   "source": []
  }
 ],
 "metadata": {
  "kernelspec": {
   "display_name": "Python 3 (ipykernel)",
   "language": "python",
   "name": "python3"
  },
  "language_info": {
   "codemirror_mode": {
    "name": "ipython",
    "version": 3
   },
   "file_extension": ".py",
   "mimetype": "text/x-python",
   "name": "python",
   "nbconvert_exporter": "python",
   "pygments_lexer": "ipython3",
   "version": "3.9.7"
  }
 },
 "nbformat": 4,
 "nbformat_minor": 5
}
