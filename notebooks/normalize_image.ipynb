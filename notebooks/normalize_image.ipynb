{
 "cells": [
  {
   "cell_type": "code",
   "execution_count": 1,
   "id": "06d631a2-1d60-437b-ae98-b61f9879b14e",
   "metadata": {},
   "outputs": [
    {
     "name": "stderr",
     "output_type": "stream",
     "text": [
      "/home/agmis/anaconda3/envs/the_third_eye/lib/python3.9/site-packages/PIL/Image.py:2911: DecompressionBombWarning: Image size (120560400 pixels) exceeds limit of 89478485 pixels, could be decompression bomb DOS attack.\n",
      "  warnings.warn(\n"
     ]
    }
   ],
   "source": [
    "from PIL import Image\n",
    "input_annotations_geotiff = '../masks/polygon_kauno_r_m.tif'\n",
    "im = Image.open(input_annotations_geotiff)\n"
   ]
  },
  {
   "cell_type": "code",
   "execution_count": 2,
   "id": "07d79d2a-1ad8-4531-a8f0-1cd8e8be213e",
   "metadata": {},
   "outputs": [],
   "source": [
    "im.save('poly_kaunas.png')"
   ]
  },
  {
   "cell_type": "code",
   "execution_count": 7,
   "id": "45b26492-6570-4e4e-8bcb-f02b706470e3",
   "metadata": {},
   "outputs": [],
   "source": [
    "import numpy as np\n",
    "import cv2\n",
    "a = np.array(im)\n",
    "norm_image = cv2.normalize(a, None, alpha = 0, beta = 255, norm_type = cv2.NORM_MINMAX, dtype = cv2.CV_32F)\n",
    "norm_image = norm_image.astype(np.uint8)"
   ]
  },
  {
   "cell_type": "code",
   "execution_count": 8,
   "id": "5ffbf537-3281-4549-8508-c33a15c9e2f5",
   "metadata": {},
   "outputs": [
    {
     "data": {
      "text/plain": [
       "True"
      ]
     },
     "execution_count": 8,
     "metadata": {},
     "output_type": "execute_result"
    }
   ],
   "source": [
    "cv2.imwrite('norm_img.png', norm_image)"
   ]
  },
  {
   "cell_type": "code",
   "execution_count": null,
   "id": "c9818a21-a4a2-41f4-8453-c94014eaeb61",
   "metadata": {},
   "outputs": [],
   "source": []
  }
 ],
 "metadata": {
  "kernelspec": {
   "display_name": "Python 3 (ipykernel)",
   "language": "python",
   "name": "python3"
  },
  "language_info": {
   "codemirror_mode": {
    "name": "ipython",
    "version": 3
   },
   "file_extension": ".py",
   "mimetype": "text/x-python",
   "name": "python",
   "nbconvert_exporter": "python",
   "pygments_lexer": "ipython3",
   "version": "3.9.7"
  }
 },
 "nbformat": 4,
 "nbformat_minor": 5
}
