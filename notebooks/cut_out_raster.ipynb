{
 "cells": [
  {
   "cell_type": "code",
   "execution_count": 2,
   "id": "c3453ab0-82e0-4283-8e71-4c77f2e4cf89",
   "metadata": {},
   "outputs": [],
   "source": [
    "import rasterio\n",
    "from rasterio.mask import mask\n"
   ]
  },
  {
   "cell_type": "code",
   "execution_count": null,
   "id": "d22aed06-e99b-4c86-9e17-d09c22cf1298",
   "metadata": {},
   "outputs": [],
   "source": [
    "# the polygon GeoJSON geometry\n",
    "geoms = [{\n",
    "        \"type\": \"Polygon\",\n",
    "        \"coordinates\": [\n",
    "          [\n",
    "            [\n",
    "              55.1893016994806,\n",
    "              24.2166748\n",
    "            ],\n",
    "            [\n",
    "              54.7222183993412,\n",
    "              24.2166748\n",
    "              \n",
    "            ],\n",
    "            [\n",
    "              54.7222183993412,\n",
    "              23.4437264\n",
    "              \n",
    "            ],\n",
    "            [\n",
    "              55.1893016994806,\n",
    "              23.4437264\n",
    "            ],\n",
    "            [\n",
    "              55.1893016994806,\n",
    "              24.2166748,\n",
    "            ]\n",
    "          ]\n",
    "        ]\n",
    "      }]\n",
    "# load the raster, mask it by the polygon and crop it\n",
    "with rasterio.open(\"out/out_kaunas_sentinel.tif\") as src:\n",
    "    out_image, out_transform = mask(src, geoms, crop=True)\n",
    "out_meta = src.meta.copy()\n",
    "\n",
    "# save the resulting raster  \n",
    "out_meta.update({\"driver\": \"GTiff\",\n",
    "                \"height\": out_image.shape[1],\n",
    "                \"width\": out_image.shape[2],\n",
    "                \"transform\": out_transform})\n",
    "\n",
    "with rasterio.open(\"out/cutout_kaunas.tif\", \"w\", **out_meta) as dest:\n",
    "    dest.write(out_image)"
   ]
  },
  {
   "cell_type": "code",
   "execution_count": null,
   "id": "ae388079-6298-4b3d-9c2f-a49a8ab17a75",
   "metadata": {},
   "outputs": [],
   "source": [
    "x_min, y_min\n",
    "x_min, y_max\n",
    "x_max, y_min\n",
    "x_max, y_max"
   ]
  },
  {
   "cell_type": "code",
   "execution_count": 3,
   "id": "bf974d23-6136-47c2-9b86-1f437329aae5",
   "metadata": {},
   "outputs": [
    {
     "data": {
      "text/plain": [
       "True"
      ]
     },
     "execution_count": 3,
     "metadata": {},
     "output_type": "execute_result"
    }
   ],
   "source": [
    "24.2166748\n",
    "23.4437264\n",
    "55.1893016994806\n",
    "54.7222183993412"
   ]
  },
  {
   "cell_type": "code",
   "execution_count": 4,
   "id": "fe759d8b-a93d-492f-966a-623cf93fe396",
   "metadata": {},
   "outputs": [
    {
     "data": {
      "text/plain": [
       "(600000.0, 5990220.0, 709800.0, 6100020.0)"
      ]
     },
     "execution_count": 4,
     "metadata": {},
     "output_type": "execute_result"
    }
   ],
   "source": [
    "from rasterio.warp import transform_bounds\n",
    "with rasterio.open(\"../out/out_kaunas_sentinel.tif\") as rds:\n",
    "    wgs84_bounds = transform_bounds(rds.crs, \"epsg:4326\", *rds.bounds)\n",
    "wgs84_bounds"
   ]
  },
  {
   "cell_type": "code",
   "execution_count": null,
   "id": "4f36660c-9d65-422f-8cb6-79690c48285e",
   "metadata": {},
   "outputs": [],
   "source": [
    "from rasterio.warp import transform_bounds\n",
    "with rasterio.open(\"../masks/out_kaunas_sentinel.tif\") as rds:\n",
    "    wgs84_bounds = transform_bounds(rds.crs, \"epsg:4326\", *rds.bounds)\n",
    "wgs84_bounds"
   ]
  }
 ],
 "metadata": {
  "kernelspec": {
   "display_name": "Python 3 (ipykernel)",
   "language": "python",
   "name": "python3"
  },
  "language_info": {
   "codemirror_mode": {
    "name": "ipython",
    "version": 3
   },
   "file_extension": ".py",
   "mimetype": "text/x-python",
   "name": "python",
   "nbconvert_exporter": "python",
   "pygments_lexer": "ipython3",
   "version": "3.9.7"
  }
 },
 "nbformat": 4,
 "nbformat_minor": 5
}
