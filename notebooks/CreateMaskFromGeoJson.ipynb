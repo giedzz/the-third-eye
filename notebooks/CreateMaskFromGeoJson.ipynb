{
 "cells": [
  {
   "cell_type": "code",
   "execution_count": 6,
   "id": "728c0e89-506b-4644-9e2a-6dd54a2384e7",
   "metadata": {},
   "outputs": [],
   "source": [
    "import rioxarray\n",
    "import json\n",
    "\n",
    "\n",
    "# load in the geojson file\n",
    "with open('polygon_kauno_r.json') as igj:\n",
    "    data = json.load(igj)\n",
    "# if GDAL 3+\n",
    "# crs = data[\"crs\"][\"properties\"][\"name\"]\n",
    "crs = \"EPSG:4326\" # if GDAL 2\n",
    "geoms = [feat[\"geometry\"] for feat in data[\"features\"]]\n",
    "# print(geoms[0])\n",
    "\n",
    "# create empty mask raster based on the input raster\n",
    "rds = rioxarray.open_rasterio(\"out/out.tiff\").isel(band=0)\n",
    "rds.values[:] = 1\n",
    "rds.rio.write_nodata(0, inplace=True)\n",
    "\n",
    "# clip the raster to the mask\n",
    "clipped = rds.rio.clip(geoms, crs, drop=False)\n",
    "\n",
    "clipped.rio.to_raster(\"polygon_kauno_r_m.tif\", dtype=\"uint8\")"
   ]
  },
  {
   "cell_type": "code",
   "execution_count": null,
   "id": "e4e35867-39a6-420c-8c7b-da5a1e2160c7",
   "metadata": {},
   "outputs": [],
   "source": []
  }
 ],
 "metadata": {
  "kernelspec": {
   "display_name": "Python 3 (ipykernel)",
   "language": "python",
   "name": "python3"
  },
  "language_info": {
   "codemirror_mode": {
    "name": "ipython",
    "version": 3
   },
   "file_extension": ".py",
   "mimetype": "text/x-python",
   "name": "python",
   "nbconvert_exporter": "python",
   "pygments_lexer": "ipython3",
   "version": "3.9.7"
  }
 },
 "nbformat": 4,
 "nbformat_minor": 5
}
